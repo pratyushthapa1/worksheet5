{
  "nbformat": 4,
  "nbformat_minor": 0,
  "metadata": {
    "colab": {
      "provenance": []
    },
    "kernelspec": {
      "name": "python3",
      "display_name": "Python 3"
    },
    "language_info": {
      "name": "python"
    }
  },
  "cells": [
    {
      "cell_type": "code",
      "execution_count": 1,
      "metadata": {
        "id": "xMnFTLvEo6pi"
      },
      "outputs": [],
      "source": [
        "import pandas as pd\n",
        "import numpy as np"
      ]
    },
    {
      "cell_type": "code",
      "source": [
        "from google.colab import drive\n",
        "drive.mount('/content/drive')"
      ],
      "metadata": {
        "colab": {
          "base_uri": "https://localhost:8080/"
        },
        "id": "Tx6s1igkrN07",
        "outputId": "4b75a27e-d4e3-44f2-bf8a-c223711753ef"
      },
      "execution_count": 4,
      "outputs": [
        {
          "output_type": "stream",
          "name": "stdout",
          "text": [
            "Mounted at /content/drive\n"
          ]
        }
      ]
    },
    {
      "cell_type": "code",
      "source": [
        "df=pd.read_csv('/student.csv')"
      ],
      "metadata": {
        "id": "pgxbmj5drmPm"
      },
      "execution_count": 6,
      "outputs": []
    },
    {
      "cell_type": "code",
      "source": [
        "print(df.head(5))\n",
        "print(df.tail(5))"
      ],
      "metadata": {
        "colab": {
          "base_uri": "https://localhost:8080/"
        },
        "id": "bmeFH0gfrwoT",
        "outputId": "7cb42193-1d29-4b80-8b6c-162da9f78220"
      },
      "execution_count": 8,
      "outputs": [
        {
          "output_type": "stream",
          "name": "stdout",
          "text": [
            "   Math  Reading  Writing\n",
            "0    48       68       63\n",
            "1    62       81       72\n",
            "2    79       80       78\n",
            "3    76       83       79\n",
            "4    59       64       62\n",
            "     Math  Reading  Writing\n",
            "995    72       74       70\n",
            "996    73       86       90\n",
            "997    89       87       94\n",
            "998    83       82       78\n",
            "999    66       66       72\n"
          ]
        }
      ]
    },
    {
      "cell_type": "code",
      "source": [
        "df.info()"
      ],
      "metadata": {
        "colab": {
          "base_uri": "https://localhost:8080/"
        },
        "id": "uMepwmSGscv5",
        "outputId": "eaf4eb70-4a85-48dc-9fcd-eccd04cc2beb"
      },
      "execution_count": 9,
      "outputs": [
        {
          "output_type": "stream",
          "name": "stdout",
          "text": [
            "<class 'pandas.core.frame.DataFrame'>\n",
            "RangeIndex: 1000 entries, 0 to 999\n",
            "Data columns (total 3 columns):\n",
            " #   Column   Non-Null Count  Dtype\n",
            "---  ------   --------------  -----\n",
            " 0   Math     1000 non-null   int64\n",
            " 1   Reading  1000 non-null   int64\n",
            " 2   Writing  1000 non-null   int64\n",
            "dtypes: int64(3)\n",
            "memory usage: 23.6 KB\n"
          ]
        }
      ]
    },
    {
      "cell_type": "code",
      "source": [
        "df.describe()"
      ],
      "metadata": {
        "colab": {
          "base_uri": "https://localhost:8080/",
          "height": 300
        },
        "id": "Pib7xTwRslZ8",
        "outputId": "9c68278a-c5bb-4e39-87bc-d1f58be08a84"
      },
      "execution_count": 10,
      "outputs": [
        {
          "output_type": "execute_result",
          "data": {
            "text/plain": [
              "              Math      Reading      Writing\n",
              "count  1000.000000  1000.000000  1000.000000\n",
              "mean     67.290000    69.872000    68.616000\n",
              "std      15.085008    14.657027    15.241287\n",
              "min      13.000000    19.000000    14.000000\n",
              "25%      58.000000    60.750000    58.000000\n",
              "50%      68.000000    70.000000    69.500000\n",
              "75%      78.000000    81.000000    79.000000\n",
              "max     100.000000   100.000000   100.000000"
            ],
            "text/html": [
              "\n",
              "  <div id=\"df-ea4c43aa-cf68-4756-83db-2e1550dc37df\" class=\"colab-df-container\">\n",
              "    <div>\n",
              "<style scoped>\n",
              "    .dataframe tbody tr th:only-of-type {\n",
              "        vertical-align: middle;\n",
              "    }\n",
              "\n",
              "    .dataframe tbody tr th {\n",
              "        vertical-align: top;\n",
              "    }\n",
              "\n",
              "    .dataframe thead th {\n",
              "        text-align: right;\n",
              "    }\n",
              "</style>\n",
              "<table border=\"1\" class=\"dataframe\">\n",
              "  <thead>\n",
              "    <tr style=\"text-align: right;\">\n",
              "      <th></th>\n",
              "      <th>Math</th>\n",
              "      <th>Reading</th>\n",
              "      <th>Writing</th>\n",
              "    </tr>\n",
              "  </thead>\n",
              "  <tbody>\n",
              "    <tr>\n",
              "      <th>count</th>\n",
              "      <td>1000.000000</td>\n",
              "      <td>1000.000000</td>\n",
              "      <td>1000.000000</td>\n",
              "    </tr>\n",
              "    <tr>\n",
              "      <th>mean</th>\n",
              "      <td>67.290000</td>\n",
              "      <td>69.872000</td>\n",
              "      <td>68.616000</td>\n",
              "    </tr>\n",
              "    <tr>\n",
              "      <th>std</th>\n",
              "      <td>15.085008</td>\n",
              "      <td>14.657027</td>\n",
              "      <td>15.241287</td>\n",
              "    </tr>\n",
              "    <tr>\n",
              "      <th>min</th>\n",
              "      <td>13.000000</td>\n",
              "      <td>19.000000</td>\n",
              "      <td>14.000000</td>\n",
              "    </tr>\n",
              "    <tr>\n",
              "      <th>25%</th>\n",
              "      <td>58.000000</td>\n",
              "      <td>60.750000</td>\n",
              "      <td>58.000000</td>\n",
              "    </tr>\n",
              "    <tr>\n",
              "      <th>50%</th>\n",
              "      <td>68.000000</td>\n",
              "      <td>70.000000</td>\n",
              "      <td>69.500000</td>\n",
              "    </tr>\n",
              "    <tr>\n",
              "      <th>75%</th>\n",
              "      <td>78.000000</td>\n",
              "      <td>81.000000</td>\n",
              "      <td>79.000000</td>\n",
              "    </tr>\n",
              "    <tr>\n",
              "      <th>max</th>\n",
              "      <td>100.000000</td>\n",
              "      <td>100.000000</td>\n",
              "      <td>100.000000</td>\n",
              "    </tr>\n",
              "  </tbody>\n",
              "</table>\n",
              "</div>\n",
              "    <div class=\"colab-df-buttons\">\n",
              "\n",
              "  <div class=\"colab-df-container\">\n",
              "    <button class=\"colab-df-convert\" onclick=\"convertToInteractive('df-ea4c43aa-cf68-4756-83db-2e1550dc37df')\"\n",
              "            title=\"Convert this dataframe to an interactive table.\"\n",
              "            style=\"display:none;\">\n",
              "\n",
              "  <svg xmlns=\"http://www.w3.org/2000/svg\" height=\"24px\" viewBox=\"0 -960 960 960\">\n",
              "    <path d=\"M120-120v-720h720v720H120Zm60-500h600v-160H180v160Zm220 220h160v-160H400v160Zm0 220h160v-160H400v160ZM180-400h160v-160H180v160Zm440 0h160v-160H620v160ZM180-180h160v-160H180v160Zm440 0h160v-160H620v160Z\"/>\n",
              "  </svg>\n",
              "    </button>\n",
              "\n",
              "  <style>\n",
              "    .colab-df-container {\n",
              "      display:flex;\n",
              "      gap: 12px;\n",
              "    }\n",
              "\n",
              "    .colab-df-convert {\n",
              "      background-color: #E8F0FE;\n",
              "      border: none;\n",
              "      border-radius: 50%;\n",
              "      cursor: pointer;\n",
              "      display: none;\n",
              "      fill: #1967D2;\n",
              "      height: 32px;\n",
              "      padding: 0 0 0 0;\n",
              "      width: 32px;\n",
              "    }\n",
              "\n",
              "    .colab-df-convert:hover {\n",
              "      background-color: #E2EBFA;\n",
              "      box-shadow: 0px 1px 2px rgba(60, 64, 67, 0.3), 0px 1px 3px 1px rgba(60, 64, 67, 0.15);\n",
              "      fill: #174EA6;\n",
              "    }\n",
              "\n",
              "    .colab-df-buttons div {\n",
              "      margin-bottom: 4px;\n",
              "    }\n",
              "\n",
              "    [theme=dark] .colab-df-convert {\n",
              "      background-color: #3B4455;\n",
              "      fill: #D2E3FC;\n",
              "    }\n",
              "\n",
              "    [theme=dark] .colab-df-convert:hover {\n",
              "      background-color: #434B5C;\n",
              "      box-shadow: 0px 1px 3px 1px rgba(0, 0, 0, 0.15);\n",
              "      filter: drop-shadow(0px 1px 2px rgba(0, 0, 0, 0.3));\n",
              "      fill: #FFFFFF;\n",
              "    }\n",
              "  </style>\n",
              "\n",
              "    <script>\n",
              "      const buttonEl =\n",
              "        document.querySelector('#df-ea4c43aa-cf68-4756-83db-2e1550dc37df button.colab-df-convert');\n",
              "      buttonEl.style.display =\n",
              "        google.colab.kernel.accessAllowed ? 'block' : 'none';\n",
              "\n",
              "      async function convertToInteractive(key) {\n",
              "        const element = document.querySelector('#df-ea4c43aa-cf68-4756-83db-2e1550dc37df');\n",
              "        const dataTable =\n",
              "          await google.colab.kernel.invokeFunction('convertToInteractive',\n",
              "                                                    [key], {});\n",
              "        if (!dataTable) return;\n",
              "\n",
              "        const docLinkHtml = 'Like what you see? Visit the ' +\n",
              "          '<a target=\"_blank\" href=https://colab.research.google.com/notebooks/data_table.ipynb>data table notebook</a>'\n",
              "          + ' to learn more about interactive tables.';\n",
              "        element.innerHTML = '';\n",
              "        dataTable['output_type'] = 'display_data';\n",
              "        await google.colab.output.renderOutput(dataTable, element);\n",
              "        const docLink = document.createElement('div');\n",
              "        docLink.innerHTML = docLinkHtml;\n",
              "        element.appendChild(docLink);\n",
              "      }\n",
              "    </script>\n",
              "  </div>\n",
              "\n",
              "\n",
              "<div id=\"df-d13395f9-f951-4292-aa05-0c4a0dc8ec68\">\n",
              "  <button class=\"colab-df-quickchart\" onclick=\"quickchart('df-d13395f9-f951-4292-aa05-0c4a0dc8ec68')\"\n",
              "            title=\"Suggest charts\"\n",
              "            style=\"display:none;\">\n",
              "\n",
              "<svg xmlns=\"http://www.w3.org/2000/svg\" height=\"24px\"viewBox=\"0 0 24 24\"\n",
              "     width=\"24px\">\n",
              "    <g>\n",
              "        <path d=\"M19 3H5c-1.1 0-2 .9-2 2v14c0 1.1.9 2 2 2h14c1.1 0 2-.9 2-2V5c0-1.1-.9-2-2-2zM9 17H7v-7h2v7zm4 0h-2V7h2v10zm4 0h-2v-4h2v4z\"/>\n",
              "    </g>\n",
              "</svg>\n",
              "  </button>\n",
              "\n",
              "<style>\n",
              "  .colab-df-quickchart {\n",
              "      --bg-color: #E8F0FE;\n",
              "      --fill-color: #1967D2;\n",
              "      --hover-bg-color: #E2EBFA;\n",
              "      --hover-fill-color: #174EA6;\n",
              "      --disabled-fill-color: #AAA;\n",
              "      --disabled-bg-color: #DDD;\n",
              "  }\n",
              "\n",
              "  [theme=dark] .colab-df-quickchart {\n",
              "      --bg-color: #3B4455;\n",
              "      --fill-color: #D2E3FC;\n",
              "      --hover-bg-color: #434B5C;\n",
              "      --hover-fill-color: #FFFFFF;\n",
              "      --disabled-bg-color: #3B4455;\n",
              "      --disabled-fill-color: #666;\n",
              "  }\n",
              "\n",
              "  .colab-df-quickchart {\n",
              "    background-color: var(--bg-color);\n",
              "    border: none;\n",
              "    border-radius: 50%;\n",
              "    cursor: pointer;\n",
              "    display: none;\n",
              "    fill: var(--fill-color);\n",
              "    height: 32px;\n",
              "    padding: 0;\n",
              "    width: 32px;\n",
              "  }\n",
              "\n",
              "  .colab-df-quickchart:hover {\n",
              "    background-color: var(--hover-bg-color);\n",
              "    box-shadow: 0 1px 2px rgba(60, 64, 67, 0.3), 0 1px 3px 1px rgba(60, 64, 67, 0.15);\n",
              "    fill: var(--button-hover-fill-color);\n",
              "  }\n",
              "\n",
              "  .colab-df-quickchart-complete:disabled,\n",
              "  .colab-df-quickchart-complete:disabled:hover {\n",
              "    background-color: var(--disabled-bg-color);\n",
              "    fill: var(--disabled-fill-color);\n",
              "    box-shadow: none;\n",
              "  }\n",
              "\n",
              "  .colab-df-spinner {\n",
              "    border: 2px solid var(--fill-color);\n",
              "    border-color: transparent;\n",
              "    border-bottom-color: var(--fill-color);\n",
              "    animation:\n",
              "      spin 1s steps(1) infinite;\n",
              "  }\n",
              "\n",
              "  @keyframes spin {\n",
              "    0% {\n",
              "      border-color: transparent;\n",
              "      border-bottom-color: var(--fill-color);\n",
              "      border-left-color: var(--fill-color);\n",
              "    }\n",
              "    20% {\n",
              "      border-color: transparent;\n",
              "      border-left-color: var(--fill-color);\n",
              "      border-top-color: var(--fill-color);\n",
              "    }\n",
              "    30% {\n",
              "      border-color: transparent;\n",
              "      border-left-color: var(--fill-color);\n",
              "      border-top-color: var(--fill-color);\n",
              "      border-right-color: var(--fill-color);\n",
              "    }\n",
              "    40% {\n",
              "      border-color: transparent;\n",
              "      border-right-color: var(--fill-color);\n",
              "      border-top-color: var(--fill-color);\n",
              "    }\n",
              "    60% {\n",
              "      border-color: transparent;\n",
              "      border-right-color: var(--fill-color);\n",
              "    }\n",
              "    80% {\n",
              "      border-color: transparent;\n",
              "      border-right-color: var(--fill-color);\n",
              "      border-bottom-color: var(--fill-color);\n",
              "    }\n",
              "    90% {\n",
              "      border-color: transparent;\n",
              "      border-bottom-color: var(--fill-color);\n",
              "    }\n",
              "  }\n",
              "</style>\n",
              "\n",
              "  <script>\n",
              "    async function quickchart(key) {\n",
              "      const quickchartButtonEl =\n",
              "        document.querySelector('#' + key + ' button');\n",
              "      quickchartButtonEl.disabled = true;  // To prevent multiple clicks.\n",
              "      quickchartButtonEl.classList.add('colab-df-spinner');\n",
              "      try {\n",
              "        const charts = await google.colab.kernel.invokeFunction(\n",
              "            'suggestCharts', [key], {});\n",
              "      } catch (error) {\n",
              "        console.error('Error during call to suggestCharts:', error);\n",
              "      }\n",
              "      quickchartButtonEl.classList.remove('colab-df-spinner');\n",
              "      quickchartButtonEl.classList.add('colab-df-quickchart-complete');\n",
              "    }\n",
              "    (() => {\n",
              "      let quickchartButtonEl =\n",
              "        document.querySelector('#df-d13395f9-f951-4292-aa05-0c4a0dc8ec68 button');\n",
              "      quickchartButtonEl.style.display =\n",
              "        google.colab.kernel.accessAllowed ? 'block' : 'none';\n",
              "    })();\n",
              "  </script>\n",
              "</div>\n",
              "\n",
              "    </div>\n",
              "  </div>\n"
            ],
            "application/vnd.google.colaboratory.intrinsic+json": {
              "type": "dataframe",
              "summary": "{\n  \"name\": \"df\",\n  \"rows\": 8,\n  \"fields\": [\n    {\n      \"column\": \"Math\",\n      \"properties\": {\n        \"dtype\": \"number\",\n        \"std\": 334.70993839737343,\n        \"min\": 13.0,\n        \"max\": 1000.0,\n        \"num_unique_values\": 8,\n        \"samples\": [\n          67.29,\n          68.0,\n          1000.0\n        ],\n        \"semantic_type\": \"\",\n        \"description\": \"\"\n      }\n    },\n    {\n      \"column\": \"Reading\",\n      \"properties\": {\n        \"dtype\": \"number\",\n        \"std\": 333.8589622553041,\n        \"min\": 14.65702713528377,\n        \"max\": 1000.0,\n        \"num_unique_values\": 8,\n        \"samples\": [\n          69.872,\n          70.0,\n          1000.0\n        ],\n        \"semantic_type\": \"\",\n        \"description\": \"\"\n      }\n    },\n    {\n      \"column\": \"Writing\",\n      \"properties\": {\n        \"dtype\": \"number\",\n        \"std\": 334.45996524707175,\n        \"min\": 14.0,\n        \"max\": 1000.0,\n        \"num_unique_values\": 8,\n        \"samples\": [\n          68.616,\n          69.5,\n          1000.0\n        ],\n        \"semantic_type\": \"\",\n        \"description\": \"\"\n      }\n    }\n  ]\n}"
            }
          },
          "metadata": {},
          "execution_count": 10
        }
      ]
    },
    {
      "cell_type": "code",
      "source": [
        "X = df[['Math', 'Reading']]\n",
        "Y = df['Writing']\n",
        "\n",
        "print(\"Features of (X): \\n\", X)\n",
        "print(\"Features of (Y): \\n\", Y)"
      ],
      "metadata": {
        "colab": {
          "base_uri": "https://localhost:8080/"
        },
        "id": "3wJuVNT0s04d",
        "outputId": "870ad35f-4157-4de8-d05f-092e4b557bf7"
      },
      "execution_count": 12,
      "outputs": [
        {
          "output_type": "stream",
          "name": "stdout",
          "text": [
            "Features of (X): \n",
            "      Math  Reading\n",
            "0      48       68\n",
            "1      62       81\n",
            "2      79       80\n",
            "3      76       83\n",
            "4      59       64\n",
            "..    ...      ...\n",
            "995    72       74\n",
            "996    73       86\n",
            "997    89       87\n",
            "998    83       82\n",
            "999    66       66\n",
            "\n",
            "[1000 rows x 2 columns]\n",
            "Features of (Y): \n",
            " 0      63\n",
            "1      72\n",
            "2      78\n",
            "3      79\n",
            "4      62\n",
            "       ..\n",
            "995    70\n",
            "996    90\n",
            "997    94\n",
            "998    78\n",
            "999    72\n",
            "Name: Writing, Length: 1000, dtype: int64\n"
          ]
        }
      ]
    },
    {
      "cell_type": "markdown",
      "source": [
        "• To - Do - 2:\n",
        "1. To make the task easier - let’s assume there is no bias or intercept.\n",
        "2. Create the following matrices:\n",
        "\n",
        "3. Note: The feature matrix described above does not include a column of 1s, as it assumes the\n",
        "absence of a bias term in the model."
      ],
      "metadata": {
        "id": "50KQHhXIteFq"
      }
    },
    {
      "cell_type": "code",
      "source": [
        "X=df[['Reading','Writing']].values\n",
        "Y=df['Math'].values\n",
        "W=np.array([1,1])\n",
        "Y1=np.dot(X,W.T)\n",
        "print(Y1)"
      ],
      "metadata": {
        "colab": {
          "base_uri": "https://localhost:8080/"
        },
        "id": "Rwjn7XMptt2J",
        "outputId": "3f3856c7-1437-4284-e803-8d5a0c67f142"
      },
      "execution_count": 13,
      "outputs": [
        {
          "output_type": "stream",
          "name": "stdout",
          "text": [
            "[131 153 158 162 126 169 167  89 158 155 133 178  89 155 140  90 147  92\n",
            " 175 147 111 132 147 101 170 173 134 141 155 160 151 173 146 134  87 127\n",
            " 103 156 142  90 173 147 123 102 140 147 103 151 200 155 200 176 159  99\n",
            " 100  93 103  93 136 159 113 183 190 161  85 177 141 166 121 116 121 114\n",
            "  96 125 133 112 129  95 150 128 162 160 145 156  91 131 176 156 160 170\n",
            " 104 141 151 147 129 143 122 130 200 167  57 104 156 113  80 157 143  93\n",
            " 154  89 141 159 175 177 103 164 112 150 171 155 143 154 170 121 102  92\n",
            "  80 115 138 164 150 159 135 109 111 155 161 159 189 160 125 195 146 130\n",
            " 123 173 131 200 156 117 122 168 145 116 115  95 172 148 124 147 167 128\n",
            "  83 142 131 151 170 147 143 187 122 148 125 119 144 179 163 127 151 127\n",
            " 135 113 138 126 137 169 156 172 164 165 118 179 118 138 110 155 169 128\n",
            " 154 151 182 146 132 138 171  95 117  96 158 124 114 118 152 119 135 194\n",
            "  94 185 119 164  99 149 122 165 165 158 134 141 131 135 121 125 148 149\n",
            " 158 172 165  85 143 156 151  72 146  91 128 156 100  64 128  89 181 125\n",
            " 104 167 173 156  68 146 153 129 126 126  96  36 129 160 155 137 131 124\n",
            " 189  88 133  87 151 124 114 166 132 138 136 109 100 131 151 182 150  92\n",
            " 118 117 135 155 128 135 105 106  96  84 155 116 194 175 131  94 140 106\n",
            " 139 100 152 162 113 186 128 168 152 155 134 151 143 127 107 133 145 129\n",
            " 122 147 169 147 163 152 162 146 139 111 190 138 147 120 183 113 163 119\n",
            " 185 135 119 156 193 147 128 147 160  64 192 127 182  68 146 166 117 158\n",
            " 169 164 108  86 112 123  97 148 126 132 170 128 141 149 135 127 119 150\n",
            " 165 169 159 162 142 165 148 131 148 109 138 168 128 146  86 174 101 115\n",
            " 142 146 171 131 200 114 152 121 133 161 149  88 135 121 178 180 123 160\n",
            " 120 107  72 164 193 144 128 123 148  88 129 198 104  76 165 182 144  77\n",
            " 154 158 112 150 177 192 135  78 173 169 106 188 143 164 159 116 140 119\n",
            "  96 133 141 115 105 173  88 166 159 133 129 104  91  85 133 176 144 143\n",
            " 122 170 129 155 160 125 149 165 124 112 125 120 153 110 142 133 161 154\n",
            "  87 159  99 141 171 147 116 199 164 156 140 168 103 111 135  82 118 127\n",
            " 105 128 154 179 155 146 137 112 113  90 156  90 117  94 161  98 156 138\n",
            " 117 160  98 113 149 148 145 109  96 115 169  50 200 137 172 102  90 156\n",
            " 123  78 128 173 154 184 150 195 165 160 146 110 184 135 136 133 151 141\n",
            " 124  92 147 163 183  81 159 170 110 174 131 196 102 137 140 145 147 130\n",
            " 135 109 143 130 171 118 136 109 176 143 144 151  78 139 124 200 101 139\n",
            " 124 140 165 173 198 132 145 162 138 189 115 143 142 124 133 148 154 189\n",
            " 143 155  99 131 164  75 143 141 140  64 159 106 130 162 199 160 163 169\n",
            " 111 166 170 185 166 192 132 142 174 122 109 124 192 129 160 139 124 154\n",
            " 136 163 185 140 160 121 189 146 124 157 126 155 115 130 200 140 141 103\n",
            " 145 182 113 129  99 195  77 161 163 139 115 157 140 149 161 167 106 140\n",
            " 200 136  97 185  95 158 200  84 180 115  82  46 128 118 128 158  96 100\n",
            "  89 185  80 120 174 118 155 198 129  77 176 165 124 142 152 140 180 129\n",
            " 158 167 124 170 162 115 184 128 153 151 154 105  79 173 169 175 159  78\n",
            " 159  99 119 169 165 198 124 192 165 138 108 145 183 147 129 128 167 143\n",
            " 151 137 162 127 128 178 116 156 159 156 138 148  95  33 115 185 145 134\n",
            " 119 121 141 125 159 127  91 176 113 149 167 122  90  53 146 112 131 141\n",
            " 172 135 159 167 136  98 200 126 125 122 139 115 157 104 105 110 125  93\n",
            " 130 168 142 112 119 175 154 122 137 106 173 145 112 190 136 132 139 151\n",
            " 127 121 199 123 110 126 161 114 173 159 128 173 169 150 138 134  99  87\n",
            " 151 110 153 176  74 119 162 178 154 122 138 154 106 118 155 166 125 136\n",
            " 136  94 135 138 115 148 116 155 166 155 121 142 200 192 181 145 120  87\n",
            " 112 131 179 129 124 146  86 175 118 165 134 143  91 126 141 139 160 106\n",
            " 144 143 167  97 193 198  87  90 188 156 137 110 174 153 126  80 123 119\n",
            " 132 105 133 122 178 154 161 142 122 175  90 132 189 167  68 189  99 138\n",
            " 168 143 118 168 161 148 147 132 140 174 123  94 113 167  90 112 127 180\n",
            " 163 116 130 135 110 147 151 164 142 127 146 130 131 145 128 185 139 142\n",
            " 143 111 146 126 161 166 129 163 168 110 148 112 112 149 123 127 125 179\n",
            " 119 104 187 131 108 144 176 181 160 138]\n"
          ]
        }
      ]
    },
    {
      "cell_type": "code",
      "source": [
        "import numpy as np\n",
        "\n",
        "# Define the cost function (Mean Squared Error)\n",
        "def compute_cost(predictions, Y):\n",
        "    m = len(Y)\n",
        "    return (1 / (2 * m)) * np.sum((predictions - Y) ** 2)\n",
        "\n",
        "# Gradient Descent function\n",
        "def gradient_descent(X, Y, W, learning_rate, num_iterations):\n",
        "    cost_history = []\n",
        "    m = len(Y)  # Number of samples\n",
        "\n",
        "    for i in range(num_iterations):\n",
        "        # Step 1: Compute the Hypothesis (Predictions)\n",
        "        predictions = np.dot(X, W)\n",
        "\n",
        "        # Step 2: Compute the Error (Difference between predictions and actual Y)\n",
        "        error = predictions - Y\n",
        "\n",
        "        # Step 3: Calculate the Gradient\n",
        "        gradient = (1 / m) * np.dot(X.T, error)\n",
        "\n",
        "        # Step 4: Update the Weights (W)\n",
        "        W = W - learning_rate * gradient\n",
        "\n",
        "        # Step 5: Compute and record the cost (Loss)\n",
        "        cost = compute_cost(predictions, Y)\n",
        "        cost_history.append(cost)\n",
        "\n",
        "    return W, cost_history\n",
        "\n",
        "# Generate random data for testing\n",
        "np.random.seed(42)  # For reproducibility\n",
        "X_train = np.random.rand(100, 3)  # 100 samples, 3 features\n",
        "Y_train = np.random.rand(100)  # 100 target values\n",
        "W_init = np.random.rand(3)  # Initial guess for weights (3 features)\n",
        "\n",
        "# Set hyperparameters\n",
        "learning_rate = 0.05  # Learning rate (slightly changed)\n",
        "num_iterations = 1500  # Number of iterations (increased)\n",
        "\n",
        "# Perform gradient descent\n",
        "final_weights, cost_values = gradient_descent(X_train, Y_train, W_init, learning_rate, num_iterations)\n",
        "\n",
        "# Print the final weights and the cost history\n",
        "print(\"Final Weights:\", final_weights)\n",
        "print(\"Cost History:\", cost_values[:5])  # Print only the first 5 cost values for brevity\n"
      ],
      "metadata": {
        "colab": {
          "base_uri": "https://localhost:8080/"
        },
        "id": "lysCmdwrv_66",
        "outputId": "f9058140-969b-4b77-aa8f-91d18a414803"
      },
      "execution_count": 19,
      "outputs": [
        {
          "output_type": "stream",
          "name": "stdout",
          "text": [
            "Final Weights: [0.33964706 0.24629395 0.31632698]\n",
            "Cost History: [0.12704571536160944, 0.12223289732778701, 0.11779742344241712, 0.11370904683007807, 0.1099399507310465]\n"
          ]
        }
      ]
    },
    {
      "cell_type": "markdown",
      "source": [
        "step-4\n",
        "RMSE"
      ],
      "metadata": {
        "id": "iDCcZjS6xEQi"
      }
    },
    {
      "cell_type": "code",
      "source": [
        "import numpy as np\n",
        "\n",
        "# Model Evaluation - RMSE (Root Mean Squared Error)\n",
        "def rmse(Y, Y_pred):\n",
        "\n",
        "    squared_diff = (Y - Y_pred) ** 2\n",
        "\n",
        "    mean_squared_error = np.mean(squared_diff)\n",
        "    rmse_value = np.sqrt(mean_squared_error)\n",
        "\n",
        "    return rmse_value\n"
      ],
      "metadata": {
        "id": "tEaBL6AWwajX"
      },
      "execution_count": 20,
      "outputs": []
    },
    {
      "cell_type": "markdown",
      "source": [
        "for R^2"
      ],
      "metadata": {
        "id": "3vHSMrswxfSc"
      }
    },
    {
      "cell_type": "code",
      "source": [
        "\n",
        "def r2(Y, Y_pred):\n",
        "\n",
        "    mean_y = np.mean(Y)\n",
        "\n",
        "    ss_tot = np.sum((Y - mean_y) ** 2)\n",
        "\n",
        "    ss_res = np.sum((Y - Y_pred) ** 2)\n",
        "\n",
        "    r2_value = 1 - (ss_res / ss_tot)\n",
        "\n",
        "    return r2_value\n"
      ],
      "metadata": {
        "id": "BnbqlNjXxiVY"
      },
      "execution_count": 21,
      "outputs": []
    },
    {
      "cell_type": "code",
      "source": [
        "X = df[['Reading','Writing']].values\n",
        "Y = df['Math'].values\n",
        "\n",
        "from sklearn.model_selection import train_test_split\n",
        "X_train, X_test, Y_train, Y_test = train_test_split(X, Y, test_size=0.2, random_state=42)\n",
        "\n",
        "final_params = final_weights[:2]\n",
        "Y_pred = np.dot(X_test, final_params)\n",
        "\n",
        "rmse_value = rmse(Y_test, Y_pred)\n",
        "print(\"Root Mean Squared Error (RMSE):\", rmse_value)\n",
        "\n",
        "r2_value = r2(Y_test, Y_pred)\n",
        "print(\"R-squared (R2):\", r2_value)"
      ],
      "metadata": {
        "colab": {
          "base_uri": "https://localhost:8080/"
        },
        "id": "-F-iZjruxyY3",
        "outputId": "63fee12f-6e75-4329-d738-0be049c1c90e"
      },
      "execution_count": 27,
      "outputs": [
        {
          "output_type": "stream",
          "name": "stdout",
          "text": [
            "Root Mean Squared Error (RMSE): 28.80448196166538\n",
            "R-squared (R2): -2.0869377676889376\n"
          ]
        }
      ]
    },
    {
      "cell_type": "code",
      "source": [
        "def rmse(Y, Y_pred):\n",
        "    squared_diff = (Y - Y_pred) ** 2\n",
        "    return np.sqrt(np.mean(squared_diff))"
      ],
      "metadata": {
        "id": "agE2ZLIm03X5"
      },
      "execution_count": 28,
      "outputs": []
    },
    {
      "cell_type": "code",
      "source": [
        "def r2(Y, Y_pred):\n",
        "    mean_y = np.mean(Y)\n",
        "    ss_tot = np.sum((Y - mean_y) ** 2)\n",
        "    ss_res = np.sum((Y - Y_pred) ** 2)\n",
        "    return 1 - (ss_res / ss_tot)\n"
      ],
      "metadata": {
        "id": "tJ1d36cd1YoD"
      },
      "execution_count": 29,
      "outputs": []
    },
    {
      "cell_type": "code",
      "source": [
        "def gradient_descent(X, Y, W, alpha, iterations):\n",
        "    cost_history = []\n",
        "    m = len(Y)\n",
        "    for _ in range(iterations):\n",
        "        Y_pred = np.dot(X, W)\n",
        "        error = Y_pred - Y\n",
        "        gradient = (1 / m) * np.dot(X.T, error)\n",
        "        W -= alpha * gradient\n",
        "        cost = np.mean(error ** 2) / 2\n",
        "        cost_history.append(cost)\n",
        "    return W, cost_history"
      ],
      "metadata": {
        "id": "eSOLbxyO1blS"
      },
      "execution_count": 30,
      "outputs": []
    },
    {
      "cell_type": "code",
      "source": [
        "\n",
        "def main():\n",
        "    df = pd.read_csv('/student.csv')\n",
        "    X = df[['Reading', 'Writing']].values\n",
        "    Y = df['Math'].values\n",
        "    X_train, X_test, Y_train, Y_test = train_test_split(X, Y, test_size=0.3, random_state=42)\n",
        "\n",
        "    W = np.zeros(X_train.shape[1])\n",
        "    alpha = 0.00001\n",
        "    iterations = 1000\n",
        "    W_optimal, cost_history = gradient_descent(X_train, Y_train, W, alpha, iterations)\n",
        "\n",
        "    Y_pred = np.dot(X_test, W_optimal)\n",
        "    model_rmse = rmse(Y_test, Y_pred)\n",
        "    model_r2 = r2(Y_test, Y_pred)\n",
        "\n",
        "    print(\"Final Weights:\", W_optimal)\n",
        "    print(\"Cost History (First 10 iterations):\", cost_history[:10])\n",
        "    print(\"RMSE on Test Set:\", model_rmse)\n",
        "    print(\"R-Squared on Test Set:\", model_r2)\n",
        "\n",
        "main()\n"
      ],
      "metadata": {
        "colab": {
          "base_uri": "https://localhost:8080/"
        },
        "id": "cPh8qFiT2AxF",
        "outputId": "8c1ec69d-a9ab-4e45-cb70-f9b9d30a49f2"
      },
      "execution_count": 32,
      "outputs": [
        {
          "output_type": "stream",
          "name": "stdout",
          "text": [
            "Final Weights: [0.50281693 0.46062298]\n",
            "Cost History (First 10 iterations): [2370.797857142857, 1926.2541544227402, 1566.484425575489, 1275.3223687598982, 1039.6845777844946, 848.9826373609566, 694.6473311340612, 569.7435827072866, 468.65882698344325, 386.85080874152226]\n",
            "RMSE on Test Set: 9.211043329780312\n",
            "R-Squared on Test Set: 0.6657884204271927\n"
          ]
        }
      ]
    }
  ]
}